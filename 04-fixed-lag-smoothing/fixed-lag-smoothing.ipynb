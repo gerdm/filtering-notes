{
 "cells": [
  {
   "cell_type": "markdown",
   "id": "f993a465-5e63-465d-9013-2ae1f21a21d2",
   "metadata": {},
   "source": [
    "# Fixed-lag smoothing"
   ]
  },
  {
   "cell_type": "code",
   "execution_count": 4,
   "id": "dbd61bc3-6332-4de8-8e2b-9dd9806cb402",
   "metadata": {},
   "outputs": [],
   "source": [
    "import jax\n",
    "import chex\n",
    "import jax.numpy as jnp\n",
    "import matplotlib.pyplot as plt"
   ]
  },
  {
   "cell_type": "code",
   "execution_count": 5,
   "id": "a6d6fb68-ed34-45dd-9cab-59a424b79a82",
   "metadata": {},
   "outputs": [],
   "source": [
    "%config InlineBackend.figure_format = \"retina\""
   ]
  },
  {
   "cell_type": "markdown",
   "id": "325f0c5d-5a19-477b-8f18-728544b0f95d",
   "metadata": {},
   "source": [
    "## The equations for fixed-lag smoothing\n",
    "$$\n",
    "\\begin{aligned}\n",
    "    \\theta_{t|t+k} &= \\theta_{t|t} + \\sum_{s=1}^k {\\bf K}_{t,t+s}\\,\\varepsilon_{t+s}\\\\\n",
    "    \\Sigma_{t|t+k} &= \\Sigma_{t|t} - \\sum_{s=1}^k {\\bf K}_{t,t+s}\\,{\\bf S}_{t+s}\\,{\\bf K}_{t,t+s}^\\intercal\\\\\n",
    "    {\\bf K}_{t,t+s} &= {\\rm Cov}(\\theta_t, \\varepsilon_{t+s})\\,{\\bf S}_{t+s}^{-1}\n",
    "\\end{aligned}\n",
    "$$"
   ]
  },
  {
   "cell_type": "markdown",
   "id": "dd18cafe-6b4c-4265-a313-1300106abe37",
   "metadata": {},
   "source": [
    "The main bulk of the computation is to estimate ${\\rm Cov}(\\theta_t, \\varepsilon_{t+s})$, which takes the general form\n",
    "$$\n",
    "\\begin{aligned}\n",
    "    {\\rm Cov}(\\theta_t, \\varepsilon_{t+s}) &= \\Sigma_{t|t-1}\\,\\overrightarrow{\\bf M}_{t+1:t+s}\\,{\\bf H}_{t+s}\\\\\n",
    "    \\overrightarrow{\\bf M}_{t+1:t+s} &= \\prod_{\\tau=1}^s {\\bf M}_{t+\\tau}\\\\\n",
    "    {\\bf M}_t &= {\\bf F}_t\\,\\left({\\bf I} - \\Sigma_{t|t-1}\\,{\\bf H}_t^\\intercal\\,{\\bf S}_{t}^{-1}\\,{\\bf H}_{t}\\right)\n",
    "\\end{aligned}\n",
    "$$"
   ]
  },
  {
   "cell_type": "code",
   "execution_count": 6,
   "id": "ebb5962e-2428-4b84-be4d-53146ba6a058",
   "metadata": {},
   "outputs": [],
   "source": [
    "def kf_step(bel, y, H, F, R, Q, n_forecast):\n",
    "    mu, Sigma = bel\n",
    "\n",
    "    # Predict\n",
    "    mu_pred = F @ mu\n",
    "    Sigma_pred = F @ Sigma @ F.T + Q\n",
    "\n",
    "    # innovation\n",
    "    S = H @ Sigma_pred @ H.T + R\n",
    "    K = jnp.linalg.solve(S, H @ Sigma_pred).T\n",
    "    err =  y - H @ mu_pred # innovation\n",
    "\n",
    "    # Update\n",
    "    mu_update = mu_pred + K @ err\n",
    "    Sigma_update = Sigma_pred - K @ S @ K.T\n",
    "    bel_next = (mu_update, Sigma_update)\n",
    "\n",
    "    out = {\n",
    "        \"mu\": mu_update,\n",
    "        \"Sigma\": Sigma_update,\n",
    "        \"err\": err,\n",
    "        \"yhat\": H @ mu_pred,\n",
    "        \"y_filter\": H @ mu_update,\n",
    "        \"y_forecast\": forecast_obs_mean(F, H, mu_update, n_forecast),\n",
    "    }\n",
    "\n",
    "    return bel_next, out"
   ]
  }
 ],
 "metadata": {
  "kernelspec": {
   "display_name": "jaxenv",
   "language": "python",
   "name": "jaxenv"
  },
  "language_info": {
   "codemirror_mode": {
    "name": "ipython",
    "version": 3
   },
   "file_extension": ".py",
   "mimetype": "text/x-python",
   "name": "python",
   "nbconvert_exporter": "python",
   "pygments_lexer": "ipython3",
   "version": "3.11.8"
  }
 },
 "nbformat": 4,
 "nbformat_minor": 5
}
