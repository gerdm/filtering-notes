{
 "cells": [
  {
   "cell_type": "markdown",
   "id": "f993a465-5e63-465d-9013-2ae1f21a21d2",
   "metadata": {},
   "source": [
    "# Fixed-lag smoothing\n",
    "\n",
    "Some things are obvious in hindsight"
   ]
  },
  {
   "cell_type": "code",
   "execution_count": 19,
   "id": "dbd61bc3-6332-4de8-8e2b-9dd9806cb402",
   "metadata": {},
   "outputs": [],
   "source": [
    "import jax\n",
    "import chex\n",
    "import jax.numpy as jnp\n",
    "import seaborn as sns\n",
    "import matplotlib.pyplot as plt\n",
    "from functools import partial"
   ]
  },
  {
   "cell_type": "code",
   "execution_count": 23,
   "id": "95176404-0c72-4c22-9f2c-94c54ef1dabf",
   "metadata": {},
   "outputs": [],
   "source": [
    "%config InlineBackend.figure_format = \"retina\"\n",
    "\n",
    "sns.set_palette(\"colorblind\")\n",
    "plt.rcParams[\"axes.spines.right\"] = False\n",
    "plt.rcParams[\"axes.spines.top\"] = False\n",
    "plt.rcParams[\"font.size\"] = 12\n",
    "# plt.rcParams[\"figure.figsize\"] = (7.2, 4.0)\n",
    "plt.rcParams[\"figure.figsize\"] = (7.2, 3.0)\n",
    "\n",
    "jnp.set_printoptions(linewidth=200)"
   ]
  },
  {
   "cell_type": "markdown",
   "id": "325f0c5d-5a19-477b-8f18-728544b0f95d",
   "metadata": {},
   "source": [
    "## The equations for fixed-lag smoothing\n",
    "$$\n",
    "\\begin{aligned}\n",
    "    \\theta_{t|t+k} &= \\theta_{t|t} + \\sum_{s=1}^k {\\bf K}_{t,t+s}\\,\\varepsilon_{t+s}\\\\\n",
    "    \\Sigma_{t|t+k} &= \\Sigma_{t|t} - \\sum_{s=1}^k {\\bf K}_{t,t+s}\\,{\\bf S}_{t+s}\\,{\\bf K}_{t,t+s}^\\intercal\\\\\n",
    "\\end{aligned}\n",
    "$$"
   ]
  },
  {
   "cell_type": "markdown",
   "id": "dd18cafe-6b4c-4265-a313-1300106abe37",
   "metadata": {},
   "source": [
    "with\n",
    "$$\n",
    "\\begin{aligned}\n",
    "    {\\bf K}_{t,t+s} &= {\\rm Cov}(\\theta_t, \\varepsilon_{t+s})\\,{\\bf S}_{t+s}^{-1}\\\\\n",
    "    {\\bf S}_{t+s} &= {\\bf H}_{t+s}\\,\\Sigma_{t+s|t+s-1}\\,{\\bf H}_{t+s}^\\intercal + {\\bf R}_{t+s}\\\\\n",
    "    {\\rm Cov}(\\theta_t, \\varepsilon_{t+s}) &= \\Sigma_{t|t-1}\\,\\overrightarrow{\\bf M}_{t+1:t+s}\\,{\\bf H}_{t+s}\\\\\n",
    "    \\overrightarrow{\\bf M}_{t+1:t+s} &= \\prod_{\\tau=1}^s {\\bf M}_{t+\\tau}\\\\\n",
    "    {\\bf M}_t &= {\\bf F}_t\\,\\left({\\bf I} - \\Sigma_{t|t-1}\\,{\\bf H}_t^\\intercal\\,{\\bf S}_{t}^{-1}\\,{\\bf H}_{t}\\right)\n",
    "\\end{aligned}\n",
    "$$"
   ]
  },
  {
   "cell_type": "code",
   "execution_count": 24,
   "id": "ebb5962e-2428-4b84-be4d-53146ba6a058",
   "metadata": {},
   "outputs": [],
   "source": [
    "def kf_step(bel, y, H, F, R, Q):\n",
    "    mu, Sigma = bel\n",
    "\n",
    "    # Predict\n",
    "    mu_pred = F @ mu\n",
    "    Sigma_pred = F @ Sigma @ F.T + Q\n",
    "\n",
    "    # innovation\n",
    "    S = H @ Sigma_pred @ H.T + R\n",
    "    K = jnp.linalg.solve(S, H @ Sigma_pred).T\n",
    "    err =  y - H @ mu_pred # innovation\n",
    "\n",
    "    # Update\n",
    "    mu_update = mu_pred + K @ err\n",
    "    Sigma_update = Sigma_pred - K @ S @ K.T\n",
    "    bel_next = (mu_update, Sigma_update)\n",
    "\n",
    "    out = {\n",
    "        \"mu\": mu_update,\n",
    "        \"Sigma\": Sigma_update,\n",
    "        \"err\": err,\n",
    "        \"yhat\": H @ mu_pred,\n",
    "        \"y_filter\": H @ mu_update,\n",
    "    }\n",
    "\n",
    "    return bel_next, out"
   ]
  },
  {
   "cell_type": "markdown",
   "id": "4759cdd7-cde2-468d-bf5a-1b58b4a6981b",
   "metadata": {},
   "source": [
    "## Tracking problem"
   ]
  }
 ],
 "metadata": {
  "kernelspec": {
   "display_name": "jaxenv",
   "language": "python",
   "name": "jaxenv"
  },
  "language_info": {
   "codemirror_mode": {
    "name": "ipython",
    "version": 3
   },
   "file_extension": ".py",
   "mimetype": "text/x-python",
   "name": "python",
   "nbconvert_exporter": "python",
   "pygments_lexer": "ipython3",
   "version": "3.11.8"
  }
 },
 "nbformat": 4,
 "nbformat_minor": 5
}
